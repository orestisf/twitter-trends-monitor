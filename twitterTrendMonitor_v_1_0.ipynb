{
  "cells": [
    {
      "cell_type": "markdown",
      "source": [
        "# Twitter Trends Monitor v.1.0\r\n",
        "A simple Python app which connects to the Twitter API and fetches the top 50 trending topics for a list of locations. Optionally, it will send the trends to an Azure Event Hub."
      ],
      "metadata": {
        "id": "wSIzsO8le_Ha"
      }
    },
    {
      "cell_type": "markdown",
      "source": [
        "## Install and import libraries"
      ],
      "metadata": {
        "id": "_HLKEWV9opJj"
      }
    },
    {
      "cell_type": "code",
      "source": [
        "# install libraries\r\n",
        "!pip install geocoder\r\n",
        "!pip install tweepy\r\n",
        "!pip install azure-eventhub\r\n",
        "!pip install opencensus-ext-azure"
      ],
      "outputs": [],
      "execution_count": null,
      "metadata": {
        "colab": {
          "base_uri": "https://localhost:8080/"
        },
        "id": "-rwisz600dwl",
        "outputId": "4154c83e-005a-4d8d-d0a7-ef9cc98ed320",
        "gather": {
          "logged": 1613181116252
        }
      }
    },
    {
      "cell_type": "code",
      "source": [
        "# import libraries\r\n",
        "import tweepy\r\n",
        "import os\r\n",
        "import json\r\n",
        "import sys\r\n",
        "import geocoder\r\n",
        "import time\r\n",
        "import codecs\r\n",
        "from azure.eventhub import EventHubProducerClient, EventData\r\n",
        "from azure.eventhub.exceptions import EventHubError\r\n",
        "import logging\r\n",
        "from opencensus.ext.azure.log_exporter import AzureLogHandler"
      ],
      "outputs": [],
      "execution_count": null,
      "metadata": {
        "id": "UkmraQET1c-Z",
        "gather": {
          "logged": 1613297624456
        }
      }
    },
    {
      "cell_type": "markdown",
      "source": [
        "## Configure connection strings to Twitter and Azure Event Hub"
      ],
      "metadata": {
        "id": "FpJv064Zotr_"
      }
    },
    {
      "cell_type": "code",
      "source": [
        "# Twitter\r\n",
        "consumer_key = \"xxxxxxxxxxxxxxxxxxxxxxx\"\r\n",
        "consumer_secret = \"xxxxxxxxxxxxxxxxxxxxxxx\"\r\n",
        "access_key = \"xxxxxxxxxxxxxxxxxxxxxxx\"\r\n",
        "access_secret = \"xxxxxxxxxxxxxxxxxxxxxxx\"\r\n",
        "\r\n",
        "# Azure Event Hub connection string and event hub name\r\n",
        "connection_string = \"xxxxxxxxxxxxxxxxxxxxxxx\"\r\n",
        "event_hub_name = \"xxxxxxxxxxxxxxxxxxxxxxx\""
      ],
      "outputs": [],
      "execution_count": null,
      "metadata": {
        "id": "_szqB7Kd1hR2",
        "gather": {
          "logged": 1613295792619
        }
      }
    },
    {
      "cell_type": "markdown",
      "source": [
        "## Set variables\r\n",
        "Set the list of locations to look up trends, how frequently the twitter API endpoint will be accessed and for how long will the application execute."
      ],
      "metadata": {
        "id": "W73IZ1rtoyX7"
      }
    },
    {
      "cell_type": "code",
      "source": [
        "# Set the list of locations (i.e. cities, countries)\r\n",
        "locations = [\"Greece\", \"New York\", \"Paris\"]\r\n",
        "\r\n",
        "# How often will the application fetch the trends\r\n",
        "queryIntervalSeconds = 30\r\n",
        "\r\n",
        "# How long will the application execute\r\n",
        "runtime = 2*60\r\n",
        "\r\n",
        "# initialize tweepy client\r\n",
        "auth = tweepy.OAuthHandler(consumer_key, consumer_secret)\r\n",
        "auth.set_access_token(access_key, access_secret)\r\n",
        "api = tweepy.API(auth)"
      ],
      "outputs": [],
      "execution_count": null,
      "metadata": {
        "id": "H8HDGPzA1yya",
        "gather": {
          "logged": 1613298724561
        }
      }
    },
    {
      "cell_type": "markdown",
      "source": [
        "## Main Code"
      ],
      "metadata": {
        "nteract": {
          "transient": {
            "deleting": false
          }
        }
      }
    },
    {
      "cell_type": "code",
      "source": [
        "def send_event_data_batch(message):\r\n",
        "    # sends captured trend JSON files as events to the Azure Event Hub\r\n",
        "    producer = EventHubProducerClient.from_connection_string(conn_str=connection_string,eventhub_name=event_hub_name)\r\n",
        "    event_data_batch = producer.create_batch()\r\n",
        "    event_data_batch.add(EventData(message))\r\n",
        "    producer.send_batch(event_data_batch)\r\n",
        "    producer.close()"
      ],
      "outputs": [],
      "execution_count": null,
      "metadata": {
        "id": "e1KYjReglIH8",
        "gather": {
          "logged": 1613296870658
        }
      }
    },
    {
      "cell_type": "code",
      "source": [
        "def saveTrendsToJson(output):\r\n",
        "    # saves a trends response for a location to a json file\r\n",
        "    print(\"saving output to json\")\r\n",
        "    with open('trends-output.json', 'a', encoding='utf8') as outfile:\r\n",
        "        json.dump(output, outfile, ensure_ascii=False)\r\n",
        "        #outfile.write(test)\r\n",
        "        outfile.write(\"\\n\")\r\n",
        "    return(None)"
      ],
      "outputs": [],
      "execution_count": null,
      "metadata": {
        "collapsed": true,
        "jupyter": {
          "source_hidden": false,
          "outputs_hidden": false
        },
        "nteract": {
          "transient": {
            "deleting": false
          }
        },
        "gather": {
          "logged": 1613298404436
        }
      }
    },
    {
      "cell_type": "code",
      "source": [
        "def getTrendingTopics(locations):\r\n",
        "    # Retrieves trending topics for each location and outputs a JSON file\r\n",
        "    for i in locations:\r\n",
        "        try:\r\n",
        "            g = geocoder.osm(i)\r\n",
        "            print(\"Fetcing trending topics for location:\", g)\r\n",
        "            closest_loc = api.trends_closest(g.lat, g.lng)\r\n",
        "            trendingTopics = api.trends_place(closest_loc[0]['woeid'])\r\n",
        "            trendingTopicsJson = json.dumps(trendingTopics)\r\n",
        "            saveTrendsToJson(trendingTopics)\r\n",
        "            # comment out below line to skip sending the topics list to the event hub\r\n",
        "            send_event_data_batch(trendingTopicsJson)\r\n",
        "            print(\"Successfully processed trending topics for location:\", g)\r\n",
        "        except KeyError:\r\n",
        "            print(\"reached keyerror\")\r\n",
        "            continue\r\n",
        "        except Exception:\r\n",
        "            print(\"error:\", sys.exc_info()[0])\r\n",
        "            logger.warning(\"Unable to find location %s\", g)\r\n",
        "            continue"
      ],
      "outputs": [],
      "execution_count": null,
      "metadata": {
        "id": "ST9skaDPPrQy",
        "gather": {
          "logged": 1613298714550
        }
      }
    },
    {
      "cell_type": "markdown",
      "source": [
        "## Start fetching trends!\r\n",
        "Execute this cell to initiate the Trends Monitor."
      ],
      "metadata": {
        "id": "gNA3jLnwfQAh"
      }
    },
    {
      "cell_type": "code",
      "source": [
        "start_time = time.time()\r\n",
        "logger = logging.getLogger(__name__)\r\n",
        "logger.addHandler(AzureLogHandler(connection_string='InstrumentationKey=d25e2379-7318-47c4-a9ad-178c869e13d8'))\r\n",
        "print(\"Started tracking trending topics for\",runtime,\"seconds at UTC time\",time.strftime(\"%H:%M:%S\", time.localtime()), \"and for\",len(locations),\"locations:\",locations)\r\n",
        "while True:\r\n",
        "    if (time.time() - start_time) < runtime:\r\n",
        "        trendingTopics = getTrendingTopics(locations)\r\n",
        "        time.sleep(queryIntervalSeconds - ((time.time() - start_time) % queryIntervalSeconds))\r\n",
        "    else:\r\n",
        "        t = time.localtime()\r\n",
        "        current_time = time.strftime(\"%H:%M:%S\", t)\r\n",
        "        print('Runtime limit of', runtime, ' seconds reached, stopping connection at UTC time.',current_time)\r\n",
        "        sys.exit()"
      ],
      "outputs": [],
      "execution_count": null,
      "metadata": {
        "id": "8jjVJueeYods"
      }
    }
  ],
  "metadata": {
    "colab": {
      "name": "twitterTrendMonitor.v.1.0.ipynb",
      "provenance": [],
      "collapsed_sections": []
    },
    "kernelspec": {
      "name": "python3",
      "language": "python",
      "display_name": "Python 3"
    },
    "language_info": {
      "name": "python",
      "version": "3.6.9",
      "mimetype": "text/x-python",
      "codemirror_mode": {
        "name": "ipython",
        "version": 3
      },
      "pygments_lexer": "ipython3",
      "nbconvert_exporter": "python",
      "file_extension": ".py"
    },
    "kernel_info": {
      "name": "python3"
    },
    "nteract": {
      "version": "nteract-front-end@1.0.0"
    }
  },
  "nbformat": 4,
  "nbformat_minor": 0
}